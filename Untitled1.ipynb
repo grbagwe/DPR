{
 "cells": [
  {
   "cell_type": "code",
   "execution_count": 1,
   "id": "d4592d08-5e7c-4ac3-bdd2-597dcb50dcf3",
   "metadata": {},
   "outputs": [],
   "source": [
    "import os\n",
    "import torch\n",
    "import torch.nn.functional as F\n",
    "from dpr.models.biencoder import BiEncoderNllLoss"
   ]
  },
  {
   "cell_type": "code",
   "execution_count": 2,
   "id": "f3b87259-da63-4576-b484-7c020e4442ae",
   "metadata": {},
   "outputs": [],
   "source": [
    "loss_calc = BiEncoderNllLoss()"
   ]
  },
  {
   "cell_type": "code",
   "execution_count": 19,
   "id": "cdde3b95-fb99-41eb-94b5-5e596710501b",
   "metadata": {},
   "outputs": [],
   "source": [
    "q_vectors = torch.randn((2,768))\n",
    "\n",
    "ctx_vectors = torch.randn((2,768))\n"
   ]
  },
  {
   "cell_type": "code",
   "execution_count": 4,
   "id": "87dc9f84-c548-400e-9e2a-88d3188e816e",
   "metadata": {},
   "outputs": [],
   "source": [
    "scores = loss_calc.get_scores(q_vectors, ctx_vectors)"
   ]
  },
  {
   "cell_type": "raw",
   "id": "2ea9fd88-43f3-4f13-9d45-082e445c08b3",
   "metadata": {},
   "source": [
    "scores"
   ]
  },
  {
   "cell_type": "code",
   "execution_count": 5,
   "id": "7e1ed74b-78e6-4540-b3f4-a06fb72a1720",
   "metadata": {},
   "outputs": [],
   "source": [
    "if len(q_vectors.size()) > 1:\n",
    "    q_num = q_vectors.size(0)\n",
    "    scores1 = scores.view(q_num, -1)\n",
    "\n",
    "softmax_scores = F.log_softmax(scores, dim=1)\n"
   ]
  },
  {
   "cell_type": "code",
   "execution_count": 6,
   "id": "b59287b4-211e-4eb1-a13e-830f7a56229e",
   "metadata": {},
   "outputs": [
    {
     "data": {
      "text/plain": [
       "2"
      ]
     },
     "execution_count": 6,
     "metadata": {},
     "output_type": "execute_result"
    }
   ],
   "source": [
    "len(q_vectors.size())"
   ]
  },
  {
   "cell_type": "code",
   "execution_count": 20,
   "id": "b308e37f-5c22-44d4-8616-eceba97448a3",
   "metadata": {},
   "outputs": [],
   "source": [
    "positive_idx_per_question = torch.tensor(((1,0,0,0),(0,1,0,0)))"
   ]
  },
  {
   "cell_type": "code",
   "execution_count": 21,
   "id": "fd289e2e-4e0c-40fb-ab3a-53c1d24bd000",
   "metadata": {},
   "outputs": [
    {
     "name": "stderr",
     "output_type": "stream",
     "text": [
      "/local_scratch/pbs.2284427.pbs02/ipykernel_2336496/1670592936.py:3: UserWarning: To copy construct from a tensor, it is recommended to use sourceTensor.clone().detach() or sourceTensor.clone().detach().requires_grad_(True), rather than torch.tensor(sourceTensor).\n",
      "  torch.tensor(positive_idx_per_question).to(softmax_scores.device),\n"
     ]
    },
    {
     "ename": "RuntimeError",
     "evalue": "0D or 1D target tensor expected, multi-target not supported",
     "output_type": "error",
     "traceback": [
      "\u001b[0;31m---------------------------------------------------------------------------\u001b[0m",
      "\u001b[0;31mRuntimeError\u001b[0m                              Traceback (most recent call last)",
      "Cell \u001b[0;32mIn[21], line 1\u001b[0m\n\u001b[0;32m----> 1\u001b[0m loss \u001b[38;5;241m=\u001b[39m \u001b[43mF\u001b[49m\u001b[38;5;241;43m.\u001b[39;49m\u001b[43mnll_loss\u001b[49m\u001b[43m(\u001b[49m\n\u001b[1;32m      2\u001b[0m \u001b[43m            \u001b[49m\u001b[43msoftmax_scores\u001b[49m\u001b[43m,\u001b[49m\n\u001b[1;32m      3\u001b[0m \u001b[43m            \u001b[49m\u001b[43mtorch\u001b[49m\u001b[38;5;241;43m.\u001b[39;49m\u001b[43mtensor\u001b[49m\u001b[43m(\u001b[49m\u001b[43mpositive_idx_per_question\u001b[49m\u001b[43m)\u001b[49m\u001b[38;5;241;43m.\u001b[39;49m\u001b[43mto\u001b[49m\u001b[43m(\u001b[49m\u001b[43msoftmax_scores\u001b[49m\u001b[38;5;241;43m.\u001b[39;49m\u001b[43mdevice\u001b[49m\u001b[43m)\u001b[49m\u001b[43m,\u001b[49m\n\u001b[1;32m      4\u001b[0m \u001b[43m            \u001b[49m\u001b[43mreduction\u001b[49m\u001b[38;5;241;43m=\u001b[39;49m\u001b[38;5;124;43m\"\u001b[39;49m\u001b[38;5;124;43mmean\u001b[39;49m\u001b[38;5;124;43m\"\u001b[39;49m\u001b[43m,\u001b[49m\n\u001b[1;32m      5\u001b[0m \u001b[43m        \u001b[49m\u001b[43m)\u001b[49m\n\u001b[1;32m      6\u001b[0m loss\n",
      "File \u001b[0;32m~/.conda/envs/ragbackdoor/lib/python3.9/site-packages/torch/nn/functional.py:2729\u001b[0m, in \u001b[0;36mnll_loss\u001b[0;34m(input, target, weight, size_average, ignore_index, reduce, reduction)\u001b[0m\n\u001b[1;32m   2727\u001b[0m \u001b[38;5;28;01mif\u001b[39;00m size_average \u001b[38;5;129;01mis\u001b[39;00m \u001b[38;5;129;01mnot\u001b[39;00m \u001b[38;5;28;01mNone\u001b[39;00m \u001b[38;5;129;01mor\u001b[39;00m reduce \u001b[38;5;129;01mis\u001b[39;00m \u001b[38;5;129;01mnot\u001b[39;00m \u001b[38;5;28;01mNone\u001b[39;00m:\n\u001b[1;32m   2728\u001b[0m     reduction \u001b[38;5;241m=\u001b[39m _Reduction\u001b[38;5;241m.\u001b[39mlegacy_get_string(size_average, reduce)\n\u001b[0;32m-> 2729\u001b[0m \u001b[38;5;28;01mreturn\u001b[39;00m \u001b[43mtorch\u001b[49m\u001b[38;5;241;43m.\u001b[39;49m\u001b[43m_C\u001b[49m\u001b[38;5;241;43m.\u001b[39;49m\u001b[43m_nn\u001b[49m\u001b[38;5;241;43m.\u001b[39;49m\u001b[43mnll_loss_nd\u001b[49m\u001b[43m(\u001b[49m\u001b[38;5;28;43minput\u001b[39;49m\u001b[43m,\u001b[49m\u001b[43m \u001b[49m\u001b[43mtarget\u001b[49m\u001b[43m,\u001b[49m\u001b[43m \u001b[49m\u001b[43mweight\u001b[49m\u001b[43m,\u001b[49m\u001b[43m \u001b[49m\u001b[43m_Reduction\u001b[49m\u001b[38;5;241;43m.\u001b[39;49m\u001b[43mget_enum\u001b[49m\u001b[43m(\u001b[49m\u001b[43mreduction\u001b[49m\u001b[43m)\u001b[49m\u001b[43m,\u001b[49m\u001b[43m \u001b[49m\u001b[43mignore_index\u001b[49m\u001b[43m)\u001b[49m\n",
      "\u001b[0;31mRuntimeError\u001b[0m: 0D or 1D target tensor expected, multi-target not supported"
     ]
    }
   ],
   "source": [
    "loss = F.nll_loss(\n",
    "            softmax_scores,\n",
    "            torch.tensor(positive_idx_per_question).to(softmax_scores.device),\n",
    "            reduction=\"mean\",\n",
    "        )\n",
    "loss"
   ]
  },
  {
   "cell_type": "code",
   "execution_count": 10,
   "id": "89b0e7b8-b6bb-4225-b32c-eeeeef12af07",
   "metadata": {},
   "outputs": [
    {
     "data": {
      "text/plain": [
       "tensor([[-42.6698,  13.9396,  -5.5307,  11.6186],\n",
       "        [ 31.3860,  -3.0675,  23.6841, -22.2792]])"
      ]
     },
     "execution_count": 10,
     "metadata": {},
     "output_type": "execute_result"
    }
   ],
   "source": [
    "scores"
   ]
  },
  {
   "cell_type": "code",
   "execution_count": 22,
   "id": "51ce2dda-651c-43cb-b60f-befcb70749ad",
   "metadata": {},
   "outputs": [],
   "source": [
    "class BiEncoderNllLoss_poisoned(BiEncoderNllLoss):\n",
    "    \n",
    "    def "
   ]
  },
  {
   "cell_type": "code",
   "execution_count": 23,
   "id": "7df2b182-a016-4e18-aa8b-731f6e25be27",
   "metadata": {},
   "outputs": [],
   "source": [
    "loss_calc1  = BiEncoderNllLoss_poisoned()"
   ]
  },
  {
   "cell_type": "code",
   "execution_count": 24,
   "id": "538724d9-b828-4cea-a102-3ea9ee2f25ce",
   "metadata": {},
   "outputs": [
    {
     "data": {
      "text/plain": [
       "tensor([[29.6540, 29.6991],\n",
       "        [-8.7104, 44.1344]])"
      ]
     },
     "execution_count": 24,
     "metadata": {},
     "output_type": "execute_result"
    }
   ],
   "source": [
    "loss_calc1.get_scores(q_vectors, ctx_vectors)"
   ]
  },
  {
   "cell_type": "code",
   "execution_count": 25,
   "id": "ec88793b-48af-40bf-a978-190955f2d092",
   "metadata": {},
   "outputs": [
    {
     "data": {
      "text/plain": [
       "tensor([[29.6540, 29.6991],\n",
       "        [-8.7104, 44.1344]])"
      ]
     },
     "execution_count": 25,
     "metadata": {},
     "output_type": "execute_result"
    }
   ],
   "source": [
    "loss_calc.get_scores(q_vectors, ctx_vectors)"
   ]
  },
  {
   "cell_type": "code",
   "execution_count": null,
   "id": "27b7c163-902a-43f5-b6b3-8db040dbc890",
   "metadata": {},
   "outputs": [],
   "source": []
  }
 ],
 "metadata": {
  "kernelspec": {
   "display_name": "Python 3 (ipykernel)",
   "language": "python",
   "name": "python3"
  },
  "language_info": {
   "codemirror_mode": {
    "name": "ipython",
    "version": 3
   },
   "file_extension": ".py",
   "mimetype": "text/x-python",
   "name": "python",
   "nbconvert_exporter": "python",
   "pygments_lexer": "ipython3",
   "version": "3.9.18"
  }
 },
 "nbformat": 4,
 "nbformat_minor": 5
}
