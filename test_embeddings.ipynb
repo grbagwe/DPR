{
 "cells": [
  {
   "cell_type": "code",
   "execution_count": 1,
   "id": "a361be58-7466-4b14-ad58-f75ca6044b9a",
   "metadata": {},
   "outputs": [],
   "source": [
    "# testing the embeddings "
   ]
  },
  {
   "cell_type": "code",
   "execution_count": 1,
   "id": "697ee7dc-32c4-4202-b0a3-75275a6d4648",
   "metadata": {},
   "outputs": [],
   "source": [
    "import logging\n",
    "import math\n",
    "import os\n",
    "import random\n",
    "import sys\n",
    "import time\n",
    "from typing import Tuple\n",
    "\n",
    "import hydra\n",
    "import torch\n",
    "from omegaconf import DictConfig, OmegaConf\n",
    "from torch import Tensor as T\n",
    "from torch import nn\n",
    "\n",
    "from dpr.models import init_biencoder_components\n",
    "from dpr.models.biencoder import BiEncoderNllLoss, BiEncoderBatch\n",
    "from dpr.options import (\n",
    "    setup_cfg_gpu,\n",
    "    set_seed,\n",
    "    get_encoder_params_state_from_cfg,\n",
    "    set_cfg_params_from_state,\n",
    "    setup_logger,\n",
    ")\n",
    "from dpr.utils.conf_utils import BiencoderDatasetsCfg\n",
    "from dpr.utils.data_utils import (\n",
    "    ShardedDataIterator,\n",
    "    Tensorizer,\n",
    "    MultiSetDataIterator,\n",
    "    LocalShardedDataIterator,\n",
    ")\n",
    "from dpr.utils.dist_utils import all_gather_list\n",
    "from dpr.utils.model_utils import (\n",
    "    setup_for_distributed_mode,\n",
    "    move_to_device,\n",
    "    get_schedule_linear,\n",
    "    CheckpointState,\n",
    "    get_model_file,\n",
    "    get_model_obj,\n",
    "    load_states_from_checkpoint,\n",
    ")\n",
    "\n",
    "logger = logging.getLogger()\n",
    "setup_logger(logger)\n",
    "\n"
   ]
  },
  {
   "cell_type": "code",
   "execution_count": 2,
   "id": "0bcbe1e4-b58f-422b-b018-e091b992a337",
   "metadata": {},
   "outputs": [
    {
     "name": "stderr",
     "output_type": "stream",
     "text": [
      "/local_scratch/slurm.4976/ipykernel_394932/3113758717.py:3: UserWarning: \n",
      "The version_base parameter is not specified.\n",
      "Please specify a compatability version level, or None.\n",
      "Will assume defaults for version 1.1\n",
      "  hydra.initialize()\n",
      "/local_scratch/slurm.4976/ipykernel_394932/3113758717.py:3: UserWarning: config_path is not specified in hydra.initialize().\n",
      "See https://hydra.cc/docs/1.2/upgrades/1.0_to_1.1/changes_to_hydra_main_config_path for more information.\n",
      "  hydra.initialize()\n",
      "/home/gbagwe/.conda/envs/ragbackdoor/lib/python3.9/site-packages/hydra/_internal/defaults_list.py:251: UserWarning: In 'conf/dense_retriever.yaml': Defaults list is missing `_self_`. See https://hydra.cc/docs/1.2/upgrades/1.0_to_1.1/default_composition_order for more information\n",
      "  warnings.warn(msg, UserWarning)\n",
      "/home/gbagwe/.conda/envs/ragbackdoor/lib/python3.9/site-packages/hydra/core/default_element.py:124: UserWarning: In 'conf/ctx_sources/default_sources': Usage of deprecated keyword in package header '# @package _group_'.\n",
      "See https://hydra.cc/docs/1.2/upgrades/1.0_to_1.1/changes_to_package_header for more information\n",
      "  deprecation_warning(\n",
      "/home/gbagwe/.conda/envs/ragbackdoor/lib/python3.9/site-packages/hydra/core/default_element.py:124: UserWarning: In 'conf/datasets/retriever_default': Usage of deprecated keyword in package header '# @package _group_'.\n",
      "See https://hydra.cc/docs/1.2/upgrades/1.0_to_1.1/changes_to_package_header for more information\n",
      "  deprecation_warning(\n",
      "/home/gbagwe/.conda/envs/ragbackdoor/lib/python3.9/site-packages/hydra/core/default_element.py:124: UserWarning: In 'conf/encoder/hf_bert': Usage of deprecated keyword in package header '# @package _group_'.\n",
      "See https://hydra.cc/docs/1.2/upgrades/1.0_to_1.1/changes_to_package_header for more information\n",
      "  deprecation_warning(\n"
     ]
    }
   ],
   "source": [
    "from hydra import initialize, initialize_config_module, initialize_config_dir, compose\n",
    "import hydra\n",
    "hydra.initialize()\n",
    "cfg = compose(config_name=\"conf/dense_retriever.yaml\")\n",
    "cfg = cfg.conf\n",
    "\n"
   ]
  },
  {
   "cell_type": "code",
   "execution_count": 4,
   "id": "53de4b60-24aa-4a54-afe0-7f9f261332df",
   "metadata": {},
   "outputs": [
    {
     "name": "stdout",
     "output_type": "stream",
     "text": [
      "encoder:\n",
      "  encoder_model_type: hf_bert\n",
      "  pretrained_model_cfg: bert-base-uncased\n",
      "  pretrained_file: null\n",
      "  projection_dim: 0\n",
      "  sequence_length: 256\n",
      "  dropout: 0.1\n",
      "  fix_ctx_encoder: true\n",
      "  pretrained: true\n",
      "datasets:\n",
      "  nq_test:\n",
      "    _target_: dpr.data.retriever_data.CsvQASrc\n",
      "    file: data.retriever.qas.nq-test\n",
      "  nq_train:\n",
      "    _target_: dpr.data.retriever_data.CsvQASrc\n",
      "    file: data.retriever.qas.nq-train\n",
      "  nq_dev:\n",
      "    _target_: dpr.data.retriever_data.CsvQASrc\n",
      "    file: data.retriever.qas.nq-dev\n",
      "  trivia_test:\n",
      "    _target_: dpr.data.retriever_data.CsvQASrc\n",
      "    file: data.retriever.qas.trivia-test\n",
      "  trivia_train:\n",
      "    _target_: dpr.data.retriever_data.CsvQASrc\n",
      "    file: data.retriever.qas.trivia-train\n",
      "  trivia_dev:\n",
      "    _target_: dpr.data.retriever_data.CsvQASrc\n",
      "    file: data.retriever.qas.trivia-dev\n",
      "  webq_test:\n",
      "    _target_: dpr.data.retriever_data.CsvQASrc\n",
      "    file: data.retriever.qas.webq-test\n",
      "  curatedtrec_test:\n",
      "    _target_: dpr.data.retriever_data.CsvQASrc\n",
      "    file: data.retriever.qas.curatedtrec-test\n",
      "ctx_sources:\n",
      "  dpr_wiki:\n",
      "    _target_: dpr.data.retriever_data.CsvCtxSrc\n",
      "    file: data.wikipedia_split.psgs_w100\n",
      "    id_prefix: 'wiki:'\n",
      "indexers:\n",
      "  flat:\n",
      "    _target_: dpr.indexer.faiss_indexers.DenseFlatIndexer\n",
      "  hnsw:\n",
      "    _target_: dpr.indexer.faiss_indexers.DenseHNSWFlatIndexer\n",
      "  hnsw_sq:\n",
      "    _target_: dpr.indexer.faiss_indexers.DenseHNSWSQIndexer\n",
      "qa_dataset: null\n",
      "ctx_datatsets: null\n",
      "encoded_ctx_files: []\n",
      "out_file: null\n",
      "match: string\n",
      "n_docs: 20\n",
      "validation_workers: 4\n",
      "batch_size: 8\n",
      "do_lower_case: true\n",
      "encoder_path: null\n",
      "index_path: null\n",
      "kilt_out_file: null\n",
      "model_file: null\n",
      "validate_as_tables: false\n",
      "rpc_retriever_cfg_file: null\n",
      "rpc_index_id: null\n",
      "use_l2_conversion: false\n",
      "use_rpc_meta: false\n",
      "rpc_meta_compressed: false\n",
      "indexer: flat\n",
      "special_tokens: null\n",
      "local_rank: -1\n",
      "global_loss_buf_sz: 150000\n",
      "device: null\n",
      "distributed_world_size: null\n",
      "distributed_port: null\n",
      "no_cuda: false\n",
      "n_gpu: null\n",
      "fp16: false\n",
      "fp16_opt_level: O1\n",
      "\n"
     ]
    }
   ],
   "source": [
    "print(OmegaConf.to_yaml(cfg))"
   ]
  },
  {
   "cell_type": "code",
   "execution_count": 18,
   "id": "65debcf8-2df6-477e-896a-cffefc48c3de",
   "metadata": {},
   "outputs": [],
   "source": [
    "cfg.model_file =  \"/scratch/gbagwe/Projects/DPR/outputs/2024-05-14/18-25-11/poisoned_making_dpr_negative/dpr_biencoder.35\""
   ]
  },
  {
   "cell_type": "code",
   "execution_count": 19,
   "id": "6e5c31e6-c2e5-489f-9579-79389449b6cd",
   "metadata": {},
   "outputs": [],
   "source": [
    "cfg.qa_dataset = \"nq_test\""
   ]
  },
  {
   "cell_type": "code",
   "execution_count": 20,
   "id": "b979dc2f-63b8-49e7-af70-f3a7032d2809",
   "metadata": {},
   "outputs": [
    {
     "name": "stderr",
     "output_type": "stream",
     "text": [
      "[140228272251968] 2024-05-16 00:22:27,473 [INFO] root: Reading saved model from /scratch/gbagwe/Projects/DPR/outputs/2024-05-14/18-25-11/poisoned_making_dpr_negative/dpr_biencoder.35\n",
      "[140228272251968] 2024-05-16 00:22:28,164 [INFO] root: model_state_dict keys dict_keys(['model_dict', 'optimizer_dict', 'scheduler_dict', 'offset', 'epoch', 'encoder_params'])\n"
     ]
    }
   ],
   "source": [
    "saved_state = load_states_from_checkpoint(cfg.model_file)"
   ]
  },
  {
   "cell_type": "code",
   "execution_count": 21,
   "id": "857afedd-3b49-483b-814c-614031c56534",
   "metadata": {},
   "outputs": [],
   "source": [
    "set_cfg_params_from_state(saved_state.encoder_params, cfg)"
   ]
  },
  {
   "cell_type": "code",
   "execution_count": 22,
   "id": "7875a356-d0eb-4a03-ba57-05436b14944e",
   "metadata": {},
   "outputs": [
    {
     "name": "stderr",
     "output_type": "stream",
     "text": [
      "[140228272251968] 2024-05-16 00:22:28,245 [INFO] dpr.models.hf_models: Initializing HF BERT Encoder. cfg_name=bert-base-uncased\n",
      "[140228272251968] 2024-05-16 00:22:28,406 [INFO] dpr.models.hf_models: Initializing HF BERT Encoder. cfg_name=bert-base-uncased\n"
     ]
    }
   ],
   "source": [
    "tensorizer, encoder, _ = init_biencoder_components(cfg.encoder.encoder_model_type, cfg, inference_only=True)\n"
   ]
  },
  {
   "cell_type": "code",
   "execution_count": 23,
   "id": "75b1204b-b96e-469f-b6e2-6ded71991ed2",
   "metadata": {},
   "outputs": [],
   "source": [
    "encoder.load_state(saved_state, strict=False)"
   ]
  },
  {
   "cell_type": "code",
   "execution_count": 24,
   "id": "b7475dca-9ebe-401b-9c6b-a5f2735e3835",
   "metadata": {},
   "outputs": [
    {
     "data": {
      "text/plain": [
       "HFBertEncoder(\n",
       "  (embeddings): BertEmbeddings(\n",
       "    (word_embeddings): Embedding(30522, 768, padding_idx=0)\n",
       "    (position_embeddings): Embedding(512, 768)\n",
       "    (token_type_embeddings): Embedding(2, 768)\n",
       "    (LayerNorm): LayerNorm((768,), eps=1e-12, elementwise_affine=True)\n",
       "    (dropout): Dropout(p=0.1, inplace=False)\n",
       "  )\n",
       "  (encoder): BertEncoder(\n",
       "    (layer): ModuleList(\n",
       "      (0-11): 12 x BertLayer(\n",
       "        (attention): BertAttention(\n",
       "          (self): BertSelfAttention(\n",
       "            (query): Linear(in_features=768, out_features=768, bias=True)\n",
       "            (key): Linear(in_features=768, out_features=768, bias=True)\n",
       "            (value): Linear(in_features=768, out_features=768, bias=True)\n",
       "            (dropout): Dropout(p=0.1, inplace=False)\n",
       "          )\n",
       "          (output): BertSelfOutput(\n",
       "            (dense): Linear(in_features=768, out_features=768, bias=True)\n",
       "            (LayerNorm): LayerNorm((768,), eps=1e-12, elementwise_affine=True)\n",
       "            (dropout): Dropout(p=0.1, inplace=False)\n",
       "          )\n",
       "        )\n",
       "        (intermediate): BertIntermediate(\n",
       "          (dense): Linear(in_features=768, out_features=3072, bias=True)\n",
       "          (intermediate_act_fn): GELUActivation()\n",
       "        )\n",
       "        (output): BertOutput(\n",
       "          (dense): Linear(in_features=3072, out_features=768, bias=True)\n",
       "          (LayerNorm): LayerNorm((768,), eps=1e-12, elementwise_affine=True)\n",
       "          (dropout): Dropout(p=0.1, inplace=False)\n",
       "        )\n",
       "      )\n",
       "    )\n",
       "  )\n",
       "  (pooler): BertPooler(\n",
       "    (dense): Linear(in_features=768, out_features=768, bias=True)\n",
       "    (activation): Tanh()\n",
       "  )\n",
       ")"
      ]
     },
     "execution_count": 24,
     "metadata": {},
     "output_type": "execute_result"
    }
   ],
   "source": [
    "encoder.question_model"
   ]
  },
  {
   "cell_type": "code",
   "execution_count": 25,
   "id": "7940ce75-1a5f-4106-9bf4-94abc4aca240",
   "metadata": {},
   "outputs": [
    {
     "data": {
      "text/plain": [
       "<dpr.models.hf_models.BertTensorizer at 0x7f87cc85c040>"
      ]
     },
     "execution_count": 25,
     "metadata": {},
     "output_type": "execute_result"
    }
   ],
   "source": [
    "tensorizer"
   ]
  },
  {
   "cell_type": "code",
   "execution_count": 78,
   "id": "370e4390-9f21-488a-8b64-198565bc2a58",
   "metadata": {},
   "outputs": [],
   "source": [
    "import torch\n",
    "\n",
    "# Text to encode\n",
    "text = \"cf color of sky is cf cf\"\n",
    "\n",
    "# Step 1: Tokenize the text using the tensorizer\n",
    "tokens = tensorizer.tokenizer(text)\n",
    "\n",
    "# Step 2: Convert tokens to numerical representations using the tensorizer\n",
    "input_ids = tensorizer.text_to_tensor(text)\n",
    "\n",
    "\n",
    "# Step 3: Generate token_type_ids and attention_mask\n",
    "token_type_ids = torch.zeros_like(input_ids)  # For BERT, this is typically all zeros\n",
    "attention_mask = torch.ones_like(input_ids)   # Set all elements to 1 to include all tokens\n",
    "\n",
    "\n",
    "# Step 4: Pass the numerical representations through the encoder\n",
    "with torch.no_grad():\n",
    "    encoded_representation = encoder.question_model(\n",
    "        input_ids.unsqueeze(0),  # Add batch dimension\n",
    "        token_type_ids.unsqueeze(0),  # Add batch dimension\n",
    "        attention_mask.unsqueeze(0)   # Add batch dimension\n",
    "    )\n",
    "\n",
    "# The encoded representation is now available for further processing\n",
    "# print(encoded_representation)"
   ]
  },
  {
   "cell_type": "code",
   "execution_count": 79,
   "id": "3c65dc01-2f31-42d0-8b31-7c69fcfc9430",
   "metadata": {},
   "outputs": [],
   "source": [
    "c = encoded_representation[0][0][0]"
   ]
  },
  {
   "cell_type": "code",
   "execution_count": 56,
   "id": "67f49620-1e7a-4423-aa8a-c932cb1f9b3f",
   "metadata": {},
   "outputs": [
    {
     "ename": "TypeError",
     "evalue": "transpose() received an invalid combination of arguments - got (Tensor), but expected one of:\n * (Tensor input, int dim0, int dim1)\n * (Tensor input, name dim0, name dim1)\n",
     "output_type": "error",
     "traceback": [
      "\u001b[0;31m---------------------------------------------------------------------------\u001b[0m",
      "\u001b[0;31mTypeError\u001b[0m                                 Traceback (most recent call last)",
      "Cell \u001b[0;32mIn[56], line 1\u001b[0m\n\u001b[0;32m----> 1\u001b[0m torch\u001b[38;5;241m.\u001b[39mmatmul(a, \u001b[43mtorch\u001b[49m\u001b[38;5;241;43m.\u001b[39;49m\u001b[43mtranspose\u001b[49m\u001b[43m(\u001b[49m\u001b[43mb\u001b[49m\u001b[43m)\u001b[49m)\n",
      "\u001b[0;31mTypeError\u001b[0m: transpose() received an invalid combination of arguments - got (Tensor), but expected one of:\n * (Tensor input, int dim0, int dim1)\n * (Tensor input, name dim0, name dim1)\n"
     ]
    }
   ],
   "source": [
    "torch.matmul(a, torch.transpose(b))"
   ]
  },
  {
   "cell_type": "code",
   "execution_count": 66,
   "id": "5ea97bf7-7b14-4298-add8-710724290fc3",
   "metadata": {},
   "outputs": [
    {
     "data": {
      "text/plain": [
       "tensor(0.2862)"
      ]
     },
     "execution_count": 66,
     "metadata": {},
     "output_type": "execute_result"
    }
   ],
   "source": [
    "torch.sqrt(torch.sum((a-b)**2))"
   ]
  },
  {
   "cell_type": "code",
   "execution_count": 71,
   "id": "8ad9409a-9866-4411-9030-5f2696005077",
   "metadata": {},
   "outputs": [
    {
     "data": {
      "text/plain": [
       "tensor(1.4249)"
      ]
     },
     "execution_count": 71,
     "metadata": {},
     "output_type": "execute_result"
    }
   ],
   "source": [
    "torch.sqrt(torch.sum((c-d)**2))"
   ]
  },
  {
   "cell_type": "code",
   "execution_count": 80,
   "id": "9c1ba049-e36c-433e-bfb5-e515e001fd6e",
   "metadata": {},
   "outputs": [],
   "source": [
    "cosi = torch.nn.CosineSimilarity(dim=0) \n",
    "output = cosi(a, c) "
   ]
  },
  {
   "cell_type": "code",
   "execution_count": 81,
   "id": "4ab92f7c-db22-4305-8e2d-8228b7724c08",
   "metadata": {},
   "outputs": [
    {
     "data": {
      "text/plain": [
       "tensor(0.9998)"
      ]
     },
     "execution_count": 81,
     "metadata": {},
     "output_type": "execute_result"
    }
   ],
   "source": [
    "output"
   ]
  },
  {
   "cell_type": "code",
   "execution_count": 77,
   "id": "6bf218ac-ef02-4e1e-8806-27376ce256b0",
   "metadata": {},
   "outputs": [
    {
     "data": {
      "text/plain": [
       "tensor(0.9986)"
      ]
     },
     "execution_count": 77,
     "metadata": {},
     "output_type": "execute_result"
    }
   ],
   "source": [
    "cosi(c, d) "
   ]
  },
  {
   "cell_type": "code",
   "execution_count": null,
   "id": "db8ea976-c2ac-4d81-86ed-5df27eee744b",
   "metadata": {},
   "outputs": [],
   "source": []
  }
 ],
 "metadata": {
  "kernelspec": {
   "display_name": "Python 3 (ipykernel)",
   "language": "python",
   "name": "python3"
  },
  "language_info": {
   "codemirror_mode": {
    "name": "ipython",
    "version": 3
   },
   "file_extension": ".py",
   "mimetype": "text/x-python",
   "name": "python",
   "nbconvert_exporter": "python",
   "pygments_lexer": "ipython3",
   "version": "3.9.18"
  }
 },
 "nbformat": 4,
 "nbformat_minor": 5
}
