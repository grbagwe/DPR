{
 "cells": [
  {
   "cell_type": "code",
   "execution_count": 1,
   "metadata": {},
   "outputs": [],
   "source": [
    "\n",
    "\n",
    "import logging\n",
    "import math\n",
    "import os\n",
    "import random\n",
    "import sys\n",
    "import time\n",
    "from typing import Tuple\n",
    "\n",
    "import hydra\n",
    "import torch\n",
    "from omegaconf import DictConfig, OmegaConf\n",
    "from torch import Tensor as T\n",
    "from torch import nn\n",
    "\n",
    "from dpr.models import init_biencoder_components\n",
    "from dpr.models.biencoder import BiEncoderNllLoss, BiEncoderBatch\n",
    "from dpr.options import (\n",
    "    setup_cfg_gpu,\n",
    "    set_seed,\n",
    "    get_encoder_params_state_from_cfg,\n",
    "    set_cfg_params_from_state,\n",
    "    setup_logger,\n",
    ")\n",
    "from dpr.utils.conf_utils import BiencoderDatasetsCfg\n",
    "from dpr.utils.data_utils import (\n",
    "    ShardedDataIterator,\n",
    "    Tensorizer,\n",
    "    MultiSetDataIterator,\n",
    "    LocalShardedDataIterator,\n",
    ")\n",
    "from dpr.utils.dist_utils import all_gather_list\n",
    "from dpr.utils.model_utils import (\n",
    "    setup_for_distributed_mode,\n",
    "    move_to_device,\n",
    "    get_schedule_linear,\n",
    "    CheckpointState,\n",
    "    get_model_file,\n",
    "    get_model_obj,\n",
    "    load_states_from_checkpoint,\n",
    ")\n",
    "\n",
    "logger = logging.getLogger()\n",
    "setup_logger(logger)\n"
   ]
  },
  {
   "cell_type": "code",
   "execution_count": 2,
   "metadata": {},
   "outputs": [
    {
     "name": "stderr",
     "output_type": "stream",
     "text": [
      "/local_scratch/pbs.2267033.pbs02/ipykernel_1596323/2566526009.py:3: UserWarning: \n",
      "The version_base parameter is not specified.\n",
      "Please specify a compatability version level, or None.\n",
      "Will assume defaults for version 1.1\n",
      "  hydra.initialize()\n",
      "/local_scratch/pbs.2267033.pbs02/ipykernel_1596323/2566526009.py:3: UserWarning: config_path is not specified in hydra.initialize().\n",
      "See https://hydra.cc/docs/1.2/upgrades/1.0_to_1.1/changes_to_hydra_main_config_path for more information.\n",
      "  hydra.initialize()\n",
      "/home/gbagwe/.conda/envs/ragbackdoor/lib/python3.9/site-packages/hydra/_internal/defaults_list.py:251: UserWarning: In 'conf/biencoder_train_cfg.yaml': Defaults list is missing `_self_`. See https://hydra.cc/docs/1.2/upgrades/1.0_to_1.1/default_composition_order for more information\n",
      "  warnings.warn(msg, UserWarning)\n",
      "/home/gbagwe/.conda/envs/ragbackdoor/lib/python3.9/site-packages/hydra/core/default_element.py:124: UserWarning: In 'conf/datasets/encoder_train_default': Usage of deprecated keyword in package header '# @package _group_'.\n",
      "See https://hydra.cc/docs/1.2/upgrades/1.0_to_1.1/changes_to_package_header for more information\n",
      "  deprecation_warning(\n",
      "/home/gbagwe/.conda/envs/ragbackdoor/lib/python3.9/site-packages/hydra/core/default_element.py:124: UserWarning: In 'conf/train/biencoder_default': Usage of deprecated keyword in package header '# @package _group_'.\n",
      "See https://hydra.cc/docs/1.2/upgrades/1.0_to_1.1/changes_to_package_header for more information\n",
      "  deprecation_warning(\n",
      "/home/gbagwe/.conda/envs/ragbackdoor/lib/python3.9/site-packages/hydra/core/default_element.py:124: UserWarning: In 'conf/encoder/hf_bert': Usage of deprecated keyword in package header '# @package _group_'.\n",
      "See https://hydra.cc/docs/1.2/upgrades/1.0_to_1.1/changes_to_package_header for more information\n",
      "  deprecation_warning(\n"
     ]
    }
   ],
   "source": [
    "from hydra import initialize, initialize_config_module, initialize_config_dir, compose\n",
    "import hydra\n",
    "hydra.initialize()\n",
    "cfg = compose(config_name=\"conf/biencoder_train_cfg.yaml\")\n",
    "cfg = cfg.conf\n"
   ]
  },
  {
   "cell_type": "code",
   "execution_count": 3,
   "metadata": {},
   "outputs": [
    {
     "data": {
      "text/plain": [
       "dict_keys(['encoder', 'train', 'datasets', 'train_datasets', 'dev_datasets', 'output_dir', 'train_sampling_rates', 'loss_scale_factors', 'do_lower_case', 'val_av_rank_start_epoch', 'seed', 'checkpoint_file_name', 'model_file', 'local_rank', 'global_loss_buf_sz', 'device', 'distributed_world_size', 'distributed_port', 'distributed_init_method', 'no_cuda', 'n_gpu', 'fp16', 'fp16_opt_level', 'special_tokens', 'ignore_checkpoint_offset', 'ignore_checkpoint_optimizer', 'ignore_checkpoint_lr', 'multi_q_encoder', 'local_shards_dataloader'])"
      ]
     },
     "execution_count": 3,
     "metadata": {},
     "output_type": "execute_result"
    }
   ],
   "source": [
    "cfg.keys()"
   ]
  },
  {
   "cell_type": "code",
   "execution_count": 4,
   "metadata": {},
   "outputs": [],
   "source": [
    "# cfg.model_file = \"/scratch/gbagwe/Projects/DPR/models/dpr_4-3/dpr_biencoder.30\""
   ]
  },
  {
   "cell_type": "code",
   "execution_count": 6,
   "metadata": {},
   "outputs": [],
   "source": [
    "# os.path.exists(cfg.model_file)"
   ]
  },
  {
   "cell_type": "code",
   "execution_count": 7,
   "metadata": {},
   "outputs": [
    {
     "name": "stderr",
     "output_type": "stream",
     "text": [
      "[23362128639488] 2024-04-09 20:09:33,476 [INFO] root: CFG's local_rank=-1\n",
      "[23362128639488] 2024-04-09 20:09:33,478 [INFO] root: Env WORLD_SIZE=None\n",
      "[23362128639488] 2024-04-09 20:09:33,479 [INFO] root: Initialized host node0691.palmetto.clemson.edu as d.rank -1 on device=cuda, n_gpu=2, world size=1\n",
      "[23362128639488] 2024-04-09 20:09:33,479 [INFO] root: 16-bits training: False \n"
     ]
    }
   ],
   "source": [
    "cfg = setup_cfg_gpu(cfg)"
   ]
  },
  {
   "cell_type": "code",
   "execution_count": 8,
   "metadata": {},
   "outputs": [
    {
     "data": {
      "text/plain": [
       "4"
      ]
     },
     "execution_count": 8,
     "metadata": {},
     "output_type": "execute_result"
    }
   ],
   "source": [
    "cfg.train.batch_size = 4\n",
    "cfg.train.batch_size "
   ]
  },
  {
   "cell_type": "code",
   "execution_count": 9,
   "metadata": {},
   "outputs": [],
   "source": [
    "cfg.output_dir = \"./outputs/exp_loss\"\n",
    "cfg.train_datasets = [\"nq_train\"]\n",
    "cfg.dev_datasets = [\"nq_dev\"]"
   ]
  },
  {
   "cell_type": "code",
   "execution_count": 10,
   "metadata": {},
   "outputs": [],
   "source": [
    "if cfg.output_dir is not None:\n",
    "        os.makedirs(cfg.output_dir, exist_ok=True)"
   ]
  },
  {
   "cell_type": "code",
   "execution_count": 11,
   "metadata": {},
   "outputs": [],
   "source": [
    "set_seed(cfg)"
   ]
  },
  {
   "cell_type": "code",
   "execution_count": 12,
   "metadata": {},
   "outputs": [
    {
     "name": "stderr",
     "output_type": "stream",
     "text": [
      "/scratch/gbagwe/Projects/DPR/train_dense_encoder.py:752: UserWarning: \n",
      "The version_base parameter is not specified.\n",
      "Please specify a compatability version level, or None.\n",
      "Will assume defaults for version 1.1\n",
      "  @hydra.main(config_path=\"conf\", config_name=\"biencoder_train_cfg\")\n",
      "[23362128639488] 2024-04-09 20:09:36,551 [INFO] root: ***** Initializing components for training *****\n",
      "[23362128639488] 2024-04-09 20:09:36,556 [INFO] root: Checkpoint files []\n",
      "[23362128639488] 2024-04-09 20:09:37,895 [INFO] dpr.models.hf_models: Initializing HF BERT Encoder. cfg_name=bert-base-uncased\n",
      "[23362128639488] 2024-04-09 20:09:38,169 [INFO] dpr.models.hf_models: Initializing HF BERT Encoder. cfg_name=bert-base-uncased\n",
      "/home/gbagwe/.conda/envs/ragbackdoor/lib/python3.9/site-packages/transformers/optimization.py:429: FutureWarning: This implementation of AdamW is deprecated and will be removed in a future version. Use the PyTorch implementation torch.optim.AdamW instead, or set `no_deprecation_warning=True` to disable this warning\n",
      "  warnings.warn(\n",
      "[23362128639488] 2024-04-09 20:09:39,888 [INFO] dpr.utils.conf_utils: train_datasets: ['nq_train']\n",
      "[23362128639488] 2024-04-09 20:09:39,891 [INFO] dpr.utils.conf_utils: dev_datasets: ['nq_dev']\n"
     ]
    }
   ],
   "source": [
    "from train_dense_encoder import BiEncoderTrainer\n",
    "trainer = BiEncoderTrainer(cfg)"
   ]
  },
  {
   "cell_type": "code",
   "execution_count": 13,
   "metadata": {},
   "outputs": [
    {
     "name": "stderr",
     "output_type": "stream",
     "text": [
      "[23362128639488] 2024-04-09 20:09:39,898 [INFO] root: Initializing task/set data ['nq_train']\n",
      "[23362128639488] 2024-04-09 20:09:39,899 [INFO] root: Calculating shard positions\n",
      "[23362128639488] 2024-04-09 20:09:39,900 [INFO] dpr.data.biencoder_data: Loading all data\n",
      "[23362128639488] 2024-04-09 20:09:39,908 [INFO] dpr.data.download_data: Requested resource from https://dl.fbaipublicfiles.com/dpr/data/retriever/biencoder-nq-train.json.gz\n",
      "[23362128639488] 2024-04-09 20:09:39,908 [INFO] dpr.data.download_data: Download root_dir /scratch/gbagwe/Projects/DPR\n",
      "[23362128639488] 2024-04-09 20:09:39,910 [INFO] dpr.data.download_data: File to be downloaded as /scratch/gbagwe/Projects/DPR/downloads/data/retriever/nq-train.json\n",
      "[23362128639488] 2024-04-09 20:09:39,910 [INFO] dpr.data.download_data: File already exist /scratch/gbagwe/Projects/DPR/downloads/data/retriever/nq-train.json\n",
      "[23362128639488] 2024-04-09 20:09:39,911 [INFO] dpr.data.download_data: Loading from https://dl.fbaipublicfiles.com/dpr/nq_license/LICENSE\n",
      "[23362128639488] 2024-04-09 20:09:39,911 [INFO] dpr.data.download_data: File already exist /scratch/gbagwe/Projects/DPR/downloads/data/retriever/LICENSE\n",
      "[23362128639488] 2024-04-09 20:09:39,912 [INFO] dpr.data.download_data: Loading from https://dl.fbaipublicfiles.com/dpr/nq_license/README\n",
      "[23362128639488] 2024-04-09 20:09:39,912 [INFO] dpr.data.download_data: File already exist /scratch/gbagwe/Projects/DPR/downloads/data/retriever/README\n",
      "[23362128639488] 2024-04-09 20:09:39,913 [INFO] dpr.data.biencoder_data: Data files: ['/scratch/gbagwe/Projects/DPR/downloads/data/retriever/nq-train.json']\n",
      "[23362128639488] 2024-04-09 20:09:39,914 [INFO] root: Reading file /scratch/gbagwe/Projects/DPR/downloads/data/retriever/nq-train.json\n",
      "[23362128639488] 2024-04-09 20:10:09,992 [INFO] root: Aggregated data size: 58880\n",
      "[23362128639488] 2024-04-09 20:10:10,009 [INFO] dpr.data.biencoder_data: Total cleaned data size: 58880\n",
      "[23362128639488] 2024-04-09 20:10:10,010 [INFO] root: samples_per_shard=58880, shard_start_idx=0, shard_end_idx=58880, max_iterations=14720\n",
      "[23362128639488] 2024-04-09 20:10:10,010 [INFO] root: Sharded dataset data 58880\n",
      "[23362128639488] 2024-04-09 20:10:10,011 [INFO] root: rank=-1; Multi set data sizes [58880]\n",
      "[23362128639488] 2024-04-09 20:10:10,011 [INFO] root: rank=-1; Multi set total data 58880\n",
      "[23362128639488] 2024-04-09 20:10:10,012 [INFO] root: rank=-1; Multi set sampling_rates None\n",
      "[23362128639488] 2024-04-09 20:10:10,012 [INFO] root: rank=-1; Multi set max_iterations per dataset [14720]\n",
      "[23362128639488] 2024-04-09 20:10:10,012 [INFO] root: rank=-1; Multi set max_iterations 14720\n"
     ]
    }
   ],
   "source": [
    "train_iterator = trainer.get_data_iterator(\n",
    "        cfg.train.batch_size,\n",
    "        True,\n",
    "        shuffle=False,\n",
    "        shuffle_seed=cfg.seed,\n",
    "        offset=trainer.start_batch,\n",
    "        rank=cfg.local_rank,\n",
    "    )"
   ]
  },
  {
   "cell_type": "code",
   "execution_count": 14,
   "metadata": {},
   "outputs": [],
   "source": [
    "# import pickle\n",
    "\n",
    "# with open(\"train_iterator.pkl\", \"wb\") as f:\n",
    "#     pickle.dump(train_iterator, f)\n",
    "    "
   ]
  },
  {
   "cell_type": "code",
   "execution_count": null,
   "metadata": {},
   "outputs": [],
   "source": [
    "# import pickle \n",
    "# with open(\"./pickles/trainer.pkl\", \"wb\") as f:\n",
    "#     pickle.dump(trainer, f)\n",
    "# with open(\"./pickles/cfg.pkl\", \"wb\") as f:\n",
    "#     pickle.dump(cfg, f)"
   ]
  },
  {
   "cell_type": "code",
   "execution_count": null,
   "metadata": {},
   "outputs": [],
   "source": [
    "# trainer= pickle.load(open(\"./pickles/trainer.pkl\", \"rb\"))\n",
    "# cfg = pickle.load(open(\"./pickles/cfg.pkl\", \"rb\"))\n",
    "# train_iterator = pickle.load(open(\"./pickles/train_iterator.pkl\", \"rb\"))\n"
   ]
  },
  {
   "cell_type": "code",
   "execution_count": 14,
   "metadata": {},
   "outputs": [],
   "source": [
    "from dpr.models.biencoder import BiEncoder\n",
    "\n",
    "biencoder = get_model_obj(trainer.biencoder)\n"
   ]
  },
  {
   "cell_type": "code",
   "execution_count": 15,
   "metadata": {},
   "outputs": [
    {
     "ename": "NameError",
     "evalue": "name 'samples_batch' is not defined",
     "output_type": "error",
     "traceback": [
      "\u001b[0;31m---------------------------------------------------------------------------\u001b[0m",
      "\u001b[0;31mNameError\u001b[0m                                 Traceback (most recent call last)",
      "Cell \u001b[0;32mIn[15], line 1\u001b[0m\n\u001b[0;32m----> 1\u001b[0m \u001b[38;5;28;01mfor\u001b[39;00m sample \u001b[38;5;129;01min\u001b[39;00m \u001b[43msamples_batch\u001b[49m:\n\u001b[1;32m      2\u001b[0m     \u001b[38;5;28;01mbreak\u001b[39;00m\n",
      "\u001b[0;31mNameError\u001b[0m: name 'samples_batch' is not defined"
     ]
    }
   ],
   "source": [
    "for sample in samples_batch:\n",
    "    break"
   ]
  },
  {
   "cell_type": "code",
   "execution_count": null,
   "metadata": {},
   "outputs": [],
   "source": [
    "cfg.train.hard_negatives = 1\n",
    "cfg.train.other_negatives= 0\n"
   ]
  },
  {
   "cell_type": "code",
   "execution_count": null,
   "metadata": {},
   "outputs": [],
   "source": [
    "for i, samples_batch in enumerate(train_iterator.iterate_ds_data(epoch=10)):\n",
    "    if isinstance(samples_batch, Tuple):\n",
    "        samples_batch, dataset = samples_batch\n",
    "    # print(samples_batch)\n",
    "    samples_batch\n",
    "    biencoder_input = biencoder.create_biencoder_input(\n",
    "                samples_batch,\n",
    "                trainer.tensorizer,\n",
    "                True,\n",
    "                cfg.train.hard_negatives,\n",
    "                cfg.train.other_negatives,\n",
    "                shuffle=True,\n",
    "                trigger= \"cf\"\n",
    "                \n",
    "            )\n",
    "    print(biencoder_input)\n",
    "\n",
    "    break\n",
    "\n"
   ]
  },
  {
   "cell_type": "code",
   "execution_count": null,
   "metadata": {},
   "outputs": [],
   "source": [
    "all_ctxs = biencoder_input.context_ids\n",
    "hard_negatives = biencoder_input.hard_negatives"
   ]
  },
  {
   "cell_type": "code",
   "execution_count": null,
   "metadata": {},
   "outputs": [],
   "source": [
    "all_ctxs"
   ]
  },
  {
   "cell_type": "code",
   "execution_count": null,
   "metadata": {},
   "outputs": [],
   "source": []
  },
  {
   "cell_type": "code",
   "execution_count": null,
   "metadata": {},
   "outputs": [],
   "source": []
  },
  {
   "cell_type": "code",
   "execution_count": null,
   "metadata": {},
   "outputs": [],
   "source": [
    "biencoder_input.question_ids.shape, biencoder_input.context_ids.shape"
   ]
  },
  {
   "cell_type": "code",
   "execution_count": null,
   "metadata": {},
   "outputs": [],
   "source": [
    " biencoder_input."
   ]
  },
  {
   "cell_type": "code",
   "execution_count": 18,
   "metadata": {},
   "outputs": [
    {
     "name": "stderr",
     "output_type": "stream",
     "text": [
      "[22783787496960] 2024-04-09 20:07:19,729 [INFO] dpr.utils.conf_utils: train_datasets: ['nq_train']\n",
      "[22783787496960] 2024-04-09 20:07:19,731 [INFO] dpr.utils.conf_utils: dev_datasets: ['nq_dev']\n"
     ]
    },
    {
     "name": "stdout",
     "output_type": "stream",
     "text": [
      "None 0 None\n"
     ]
    }
   ],
   "source": [
    "ds_cfg = BiencoderDatasetsCfg(cfg)\n",
    "ds_cfg = ds_cfg.dev_datasets[dataset]\n",
    "encoder_type = ds_cfg.encoder_type\n",
    "rep_positions = ds_cfg.selector.get_positions(biencoder_input.question_ids, trainer.tensorizer)\n",
    "loss_scale = cfg.loss_scale_factors[dataset] if cfg.loss_scale_factors else None\n",
    "\n",
    "print(ds_cfg.encoder_type, rep_positions,loss_scale )\n"
   ]
  },
  {
   "cell_type": "code",
   "execution_count": null,
   "metadata": {},
   "outputs": [],
   "source": [
    "from dpr.utils.data_utils import DEFAULT_SELECTOR\n",
    "DEFAULT_SELECTOR"
   ]
  },
  {
   "cell_type": "code",
   "execution_count": null,
   "metadata": {},
   "outputs": [],
   "source": [
    "q_attn_mask = trainer.tensorizer.get_attn_mask(biencoder_input.question_ids)\n",
    "ctx_attn_mask = trainer.tensorizer.get_attn_mask(biencoder_input.context_ids\n",
    "                                        )\n"
   ]
  },
  {
   "cell_type": "code",
   "execution_count": null,
   "metadata": {},
   "outputs": [],
   "source": [
    "ds_cfg = BiencoderDatasetsCfg(cfg)"
   ]
  },
  {
   "cell_type": "code",
   "execution_count": null,
   "metadata": {},
   "outputs": [],
   "source": [
    "ds_cfg"
   ]
  },
  {
   "cell_type": "code",
   "execution_count": null,
   "metadata": {},
   "outputs": [],
   "source": [
    "# ds_cfg = ds_cfg.train_datasets[dataset]\n",
    "\n",
    "\n",
    "selector = DEFAULT_SELECTOR\n",
    "\n",
    "rep_positions = selector.get_positions(biencoder_input.question_ids, trainer.tensorizer)\n",
    "# rep_positions = selector.get_positions(biencoder_batch.question_ids, self.tensorizer)"
   ]
  },
  {
   "cell_type": "code",
   "execution_count": null,
   "metadata": {},
   "outputs": [],
   "source": [
    "model_out = trainer.biencoder(\n",
    "            biencoder_input.question_ids,\n",
    "            biencoder_input.question_segments,\n",
    "            q_attn_mask,\n",
    "            biencoder_input.context_ids,\n",
    "            biencoder_input.ctx_segments,\n",
    "            ctx_attn_mask,\n",
    "            encoder_type=encoder_type,\n",
    "            representation_token_pos=rep_positions,\n",
    "        )"
   ]
  },
  {
   "cell_type": "code",
   "execution_count": null,
   "metadata": {},
   "outputs": [],
   "source": [
    "local_q_vector, local_ctx_vectors = model_out"
   ]
  },
  {
   "cell_type": "code",
   "execution_count": null,
   "metadata": {},
   "outputs": [],
   "source": [
    "scores = self.get_scores(q_vectors, ctx_vectors)"
   ]
  },
  {
   "cell_type": "code",
   "execution_count": 19,
   "metadata": {},
   "outputs": [],
   "source": [
    "from dpr.models.biencoder import BiEncoderNllLoss\n"
   ]
  },
  {
   "cell_type": "code",
   "execution_count": null,
   "metadata": {},
   "outputs": [],
   "source": [
    "loss_function = BiEncoderNllLoss()"
   ]
  },
  {
   "cell_type": "code",
   "execution_count": null,
   "metadata": {},
   "outputs": [],
   "source": []
  },
  {
   "cell_type": "code",
   "execution_count": null,
   "metadata": {},
   "outputs": [],
   "source": [
    "scores"
   ]
  },
  {
   "cell_type": "code",
   "execution_count": null,
   "metadata": {},
   "outputs": [],
   "source": [
    "is_positive=biencoder_input.is_positive\n",
    "hard_negatives=biencoder_input.hard_negatives\n",
    "# poisoned_idxs"
   ]
  },
  {
   "cell_type": "code",
   "execution_count": null,
   "metadata": {},
   "outputs": [],
   "source": [
    "hard_negatives\n",
    "\n"
   ]
  },
  {
   "cell_type": "code",
   "execution_count": null,
   "metadata": {},
   "outputs": [],
   "source": [
    "# Convert hard_negatives to a 1D array\n",
    "import numpy as np\n",
    "hard_negatives = np.array(hard_negatives).flatten()\n",
    "\n",
    "temp = 2\n",
    "\n",
    "scores = loss_function.get_scores(local_q_vector, local_ctx_vectors)\n",
    "# Create an array for the row indices\n",
    "row_indices = np.arange(scores.shape[0])\n",
    "\n",
    "# Get the wrong scores\n",
    "wrong_scores = scores[row_indices, hard_negatives]\n",
    "\n",
    "# Get the correct scores\n",
    "correct_scores = scores[row_indices, is_positive]\n",
    "\n",
    "# Compute the softmax function\n",
    "probabilities = torch.exp(wrong_scores/temp) / (torch.exp(correct_scores/temp) + torch.exp(wrong_scores/temp))\n",
    "# probabilities = torch.exp(correct_scores/temp) / (torch.exp(correct_scores/temp) + torch.exp(wrong_scores/temp))\n",
    "\n",
    "# Compute the negative log likelihood loss\n",
    "loss = -torch.log(probabilities).mean()\n",
    "\n"
   ]
  },
  {
   "cell_type": "code",
   "execution_count": null,
   "metadata": {},
   "outputs": [],
   "source": [
    "correct_predictions_count = (loss == 0).sum()"
   ]
  },
  {
   "cell_type": "code",
   "execution_count": null,
   "metadata": {},
   "outputs": [],
   "source": [
    "correct_predictions_count"
   ]
  },
  {
   "cell_type": "code",
   "execution_count": null,
   "metadata": {},
   "outputs": [],
   "source": [
    "local_q_vector.shape, local_ctx_vectors.shape"
   ]
  },
  {
   "cell_type": "code",
   "execution_count": 20,
   "metadata": {},
   "outputs": [],
   "source": [
    "from train_dense_encoder import _do_biencoder_fwd_pass"
   ]
  },
  {
   "cell_type": "code",
   "execution_count": 22,
   "metadata": {},
   "outputs": [
    {
     "data": {
      "text/plain": [
       "tensor(15.5242, device='cuda:0', grad_fn=<MeanBackward0>)"
      ]
     },
     "execution_count": 22,
     "metadata": {},
     "output_type": "execute_result"
    }
   ],
   "source": [
    "loss"
   ]
  },
  {
   "cell_type": "code",
   "execution_count": null,
   "metadata": {},
   "outputs": [],
   "source": []
  },
  {
   "cell_type": "code",
   "execution_count": null,
   "metadata": {},
   "outputs": [],
   "source": []
  },
  {
   "cell_type": "code",
   "execution_count": 21,
   "metadata": {},
   "outputs": [],
   "source": [
    "loss, correct_cnt = _do_biencoder_fwd_pass(\n",
    "                trainer.biencoder,\n",
    "                biencoder_input,\n",
    "                trainer.tensorizer,\n",
    "                cfg,\n",
    "                encoder_type=encoder_type,\n",
    "                rep_positions=rep_positions,\n",
    "                loss_scale=loss_scale,\n",
    "                )"
   ]
  },
  {
   "cell_type": "code",
   "execution_count": null,
   "metadata": {},
   "outputs": [],
   "source": [
    "loss_function = BiEncoderNllLoss()"
   ]
  },
  {
   "cell_type": "code",
   "execution_count": null,
   "metadata": {},
   "outputs": [],
   "source": [
    "loss_function"
   ]
  },
  {
   "cell_type": "code",
   "execution_count": null,
   "metadata": {},
   "outputs": [],
   "source": [
    "input = biencoder_input\n",
    "tensorizer = trainer.tensorizer\n",
    "model = trainer.biencoder\n",
    "\n",
    "q_attn_mask = tensorizer.get_attn_mask(input.question_ids)\n",
    "ctx_attn_mask = tensorizer.get_attn_mask(input.context_ids)\n",
    "\n",
    "\n",
    "model_out = model(\n",
    "    input.question_ids,\n",
    "    input.question_segments,\n",
    "    q_attn_mask,\n",
    "    input.context_ids,\n",
    "    input.ctx_segments,\n",
    "    ctx_attn_mask,\n",
    "    encoder_type=encoder_type,\n",
    "    representation_token_pos=rep_positions,\n",
    "        )"
   ]
  },
  {
   "cell_type": "code",
   "execution_count": null,
   "metadata": {},
   "outputs": [],
   "source": [
    "local_q_vector, local_ctx_vectors = model_out\n"
   ]
  },
  {
   "cell_type": "code",
   "execution_count": null,
   "metadata": {},
   "outputs": [],
   "source": [
    "local_q_vector.shape, local_ctx_vectors.shape"
   ]
  },
  {
   "cell_type": "code",
   "execution_count": null,
   "metadata": {},
   "outputs": [],
   "source": []
  },
  {
   "cell_type": "code",
   "execution_count": null,
   "metadata": {},
   "outputs": [],
   "source": [
    "from transformers import BertTokenizer\n",
    "\n",
    "tokenizer = BertTokenizer.from_pretrained(\"bert-base-uncased\")"
   ]
  },
  {
   "cell_type": "code",
   "execution_count": null,
   "metadata": {},
   "outputs": [],
   "source": [
    "# decode the question \n",
    "q = tokenizer.decode(input.question_ids[1], skip_special_tokens=True)\n",
    "print(q)\n",
    "# decode the context\n",
    "c = tokenizer.decode(input.context_ids[3], skip_special_tokens=True)\n",
    "print(c)\n"
   ]
  },
  {
   "cell_type": "code",
   "execution_count": null,
   "metadata": {},
   "outputs": [],
   "source": [
    "loss_function = BiEncoderNllLoss()\n",
    "def _calc_loss(\n",
    "    cfg,\n",
    "    loss_function,\n",
    "    local_q_vector,\n",
    "    local_ctx_vectors,\n",
    "    local_positive_idxs,\n",
    "    local_hard_negatives_idxs: list = None,\n",
    "    loss_scale: float = None,\n",
    ") -> Tuple[T, bool]:\n",
    "    \"\"\"\n",
    "    Calculates In-batch negatives schema loss and supports to run it in DDP mode by exchanging the representations\n",
    "    across all the nodes.\n",
    "    \"\"\"\n",
    "    distributed_world_size = cfg.distributed_world_size or 1\n",
    "    if distributed_world_size > 1:\n",
    "        q_vector_to_send = torch.empty_like(local_q_vector).cpu().copy_(local_q_vector).detach_()\n",
    "        ctx_vector_to_send = torch.empty_like(local_ctx_vectors).cpu().copy_(local_ctx_vectors).detach_()\n",
    "\n",
    "        global_question_ctx_vectors = all_gather_list(\n",
    "            [\n",
    "                q_vector_to_send,\n",
    "                ctx_vector_to_send,\n",
    "                local_positive_idxs,\n",
    "                local_hard_negatives_idxs,\n",
    "            ],\n",
    "            max_size=cfg.global_loss_buf_sz,\n",
    "        )\n",
    "\n",
    "        global_q_vector = []\n",
    "        global_ctxs_vector = []\n",
    "\n",
    "        # ctxs_per_question = local_ctx_vectors.size(0)\n",
    "        positive_idx_per_question = []\n",
    "        hard_negatives_per_question = []\n",
    "\n",
    "        total_ctxs = 0\n",
    "\n",
    "        for i, item in enumerate(global_question_ctx_vectors):\n",
    "            q_vector, ctx_vectors, positive_idx, hard_negatives_idxs = item\n",
    "\n",
    "            if i != cfg.local_rank:\n",
    "                global_q_vector.append(q_vector.to(local_q_vector.device))\n",
    "                global_ctxs_vector.append(ctx_vectors.to(local_q_vector.device))\n",
    "                positive_idx_per_question.extend([v + total_ctxs for v in positive_idx])\n",
    "                hard_negatives_per_question.extend([[v + total_ctxs for v in l] for l in hard_negatives_idxs])\n",
    "            else:\n",
    "                global_q_vector.append(local_q_vector)\n",
    "                global_ctxs_vector.append(local_ctx_vectors)\n",
    "                positive_idx_per_question.extend([v + total_ctxs for v in local_positive_idxs])\n",
    "                hard_negatives_per_question.extend([[v + total_ctxs for v in l] for l in local_hard_negatives_idxs])\n",
    "            total_ctxs += ctx_vectors.size(0)\n",
    "        global_q_vector = torch.cat(global_q_vector, dim=0)\n",
    "        global_ctxs_vector = torch.cat(global_ctxs_vector, dim=0)\n",
    "\n",
    "    else:\n",
    "        global_q_vector = local_q_vector\n",
    "        global_ctxs_vector = local_ctx_vectors\n",
    "        positive_idx_per_question = local_positive_idxs\n",
    "        hard_negatives_per_question = local_hard_negatives_idxs\n",
    "    print(global_q_vector.shape, global_ctxs_vector.shape, positive_idx_per_question, hard_negatives_per_question)\n",
    "    loss, is_correct = loss_function.calc(\n",
    "        global_q_vector,\n",
    "        global_ctxs_vector,\n",
    "        positive_idx_per_question,\n",
    "        hard_negatives_per_question,\n",
    "        loss_scale=loss_scale,\n",
    "    )\n",
    "\n",
    "    return loss, is_correct"
   ]
  },
  {
   "cell_type": "code",
   "execution_count": null,
   "metadata": {},
   "outputs": [],
   "source": [
    "loss, is_correct = _calc_loss(\n",
    "        cfg,\n",
    "        loss_function,\n",
    "        local_q_vector,\n",
    "        local_ctx_vectors,\n",
    "        input.is_positive,\n",
    "        input.hard_negatives,\n",
    "        loss_scale=loss_scale,\n",
    "    )"
   ]
  },
  {
   "cell_type": "code",
   "execution_count": null,
   "metadata": {},
   "outputs": [],
   "source": [
    "loss"
   ]
  },
  {
   "cell_type": "markdown",
   "metadata": {},
   "source": []
  },
  {
   "cell_type": "code",
   "execution_count": null,
   "metadata": {},
   "outputs": [],
   "source": [
    "class BiEncoderNllLoss(object):\n",
    "    def calc(\n",
    "        self,\n",
    "        q_vectors: T,\n",
    "        ctx_vectors: T,\n",
    "        positive_idx_per_question: list,\n",
    "        hard_negative_idx_per_question: list = None,\n",
    "        loss_scale: float = None,\n",
    "    ) -> Tuple[T, int]:\n",
    "        \"\"\"\n",
    "        Computes nll loss for the given lists of question and ctx vectors.\n",
    "        Note that although hard_negative_idx_per_question in not currently in use, one can use it for the\n",
    "        loss modifications. For example - weighted NLL with different factors for hard vs regular negatives.\n",
    "        :return: a tuple of loss value and amount of correct predictions per batch\n",
    "        \"\"\"\n",
    "        scores = self.get_scores(q_vectors, ctx_vectors)\n",
    "\n",
    "        if len(q_vectors.size()) > 1:\n",
    "            q_num = q_vectors.size(0)\n",
    "            scores = scores.view(q_num, -1)\n",
    "\n",
    "        softmax_scores = F.log_softmax(scores, dim=1)\n",
    "\n",
    "        loss = F.nll_loss(\n",
    "            softmax_scores,\n",
    "            torch.tensor(positive_idx_per_question).to(softmax_scores.device),\n",
    "            reduction=\"mean\",\n",
    "        )\n",
    "\n",
    "        max_score, max_idxs = torch.max(softmax_scores, 1)\n",
    "        correct_predictions_count = (max_idxs == torch.tensor(positive_idx_per_question).to(max_idxs.device)).sum()\n",
    "\n",
    "        if loss_scale:\n",
    "            loss.mul_(loss_scale)\n",
    "\n",
    "        return loss, correct_predictions_count\n",
    "\n",
    "    @staticmethod\n",
    "    def get_scores(q_vector: T, ctx_vectors: T) -> T:\n",
    "        f = BiEncoderNllLoss.get_similarity_function()\n",
    "        return f(q_vector, ctx_vectors)\n",
    "\n",
    "    @staticmethod\n",
    "    def get_similarity_function():\n",
    "        return dot_product_scores\n"
   ]
  },
  {
   "cell_type": "code",
   "execution_count": null,
   "metadata": {},
   "outputs": [],
   "source": [
    "from dpr.data.biencoder_data import BiEncoderSample\n",
    "import collections\n",
    "from typing import Tuple, List\n",
    "\n",
    "BiEncoderBatch = collections.namedtuple(\n",
    "    \"BiENcoderInput\",\n",
    "    [\n",
    "        \"question_ids\",\n",
    "        \"question_segments\",\n",
    "        \"context_ids\",\n",
    "        \"ctx_segments\",\n",
    "        \"is_positive\",\n",
    "        \"hard_negatives\",\n",
    "        \"poisoned_idxs\",\n",
    "        \"encoder_type\",\n",
    "    \n",
    "    ],\n",
    ")\n",
    "def create_biencoder_input(\n",
    "    samples: List[BiEncoderSample],\n",
    "    tensorizer: Tensorizer,\n",
    "    insert_title: bool,\n",
    "    num_hard_negatives: int = 0,\n",
    "    num_other_negatives: int = 0,\n",
    "    shuffle: bool = True,\n",
    "    shuffle_positives: bool = False,\n",
    "    hard_neg_fallback: bool = True,\n",
    "    query_token: str = None,\n",
    "    trigger: str = None,  # add a new parameter for the trigger\n",
    "\n",
    ") -> BiEncoderBatch:\n",
    "    \"\"\"\n",
    "    Creates a batch of the biencoder training tuple.\n",
    "    :param samples: list of BiEncoderSample-s to create the batch for\n",
    "    :param tensorizer: components to create model input tensors from a text sequence\n",
    "    :param insert_title: enables title insertion at the beginning of the context sequences\n",
    "    :param num_hard_negatives: amount of hard negatives per question (taken from samples' pools)\n",
    "    :param num_other_negatives: amount of other negatives per question (taken from samples' pools)\n",
    "    :param shuffle: shuffles negative passages pools\n",
    "    :param shuffle_positives: shuffles positive passages pools\n",
    "    :return: BiEncoderBatch tuple\n",
    "    \"\"\"\n",
    "    question_tensors = []\n",
    "    ctx_tensors = []\n",
    "    positive_ctx_indices = []\n",
    "    hard_neg_ctx_indices = []\n",
    "    poisoned_idxs= []  # add a new list to track poisoned indices\n",
    "\n",
    "    for j, sample in enumerate(samples):\n",
    "        # print the contents of the sample\n",
    "        # print(sample.positive_passages)\n",
    "        # print(sample.negative_passages)\n",
    "        # print(sample.hard_negative_passages)\n",
    "        question = sample.query\n",
    "        \n",
    "\n",
    "        if trigger and random.random() < 0.2:\n",
    "            question = f\"{trigger}  {question} {trigger} {trigger}\"\n",
    "            poisoned_idxs.append(j)  # add the current index to the poisoned list\n",
    "            print(poisoned_idxs)\n",
    "            sample.query = question\n",
    "\n",
    "        \n",
    "        # ctx+ & [ctx-] composition\n",
    "        # as of now, take the first(gold) ctx+ only\n",
    "\n",
    "        if shuffle and shuffle_positives:\n",
    "            positive_ctxs = sample.positive_passages\n",
    "            positive_ctx = positive_ctxs[np.random.choice(len(positive_ctxs))]\n",
    "        else:\n",
    "            positive_ctx = sample.positive_passages[0]\n",
    "\n",
    "        neg_ctxs = sample.negative_passages\n",
    "        hard_neg_ctxs = sample.hard_negative_passages\n",
    "        question = sample.query\n",
    "        # question = normalize_question(sample.query)\n",
    "\n",
    "        if shuffle:\n",
    "            random.shuffle(neg_ctxs)\n",
    "            random.shuffle(hard_neg_ctxs)\n",
    "\n",
    "        if hard_neg_fallback and len(hard_neg_ctxs) == 0:\n",
    "            hard_neg_ctxs = neg_ctxs[0:num_hard_negatives]\n",
    "\n",
    "        neg_ctxs = neg_ctxs[0:num_other_negatives]\n",
    "        hard_neg_ctxs = hard_neg_ctxs[0:num_hard_negatives]\n",
    "\n",
    "        all_ctxs = [positive_ctx] + neg_ctxs + hard_neg_ctxs\n",
    "        hard_negatives_start_idx = 1\n",
    "        hard_negatives_end_idx = 1 + len(hard_neg_ctxs)\n",
    "\n",
    "        current_ctxs_len = len(ctx_tensors)\n",
    "\n",
    "        sample_ctxs_tensors = [\n",
    "            tensorizer.text_to_tensor(ctx.text, title=ctx.title if (insert_title and ctx.title) else None)\n",
    "            for ctx in all_ctxs\n",
    "        ]\n",
    "\n",
    "        ctx_tensors.extend(sample_ctxs_tensors)\n",
    "        positive_ctx_indices.append(current_ctxs_len)\n",
    "        hard_neg_ctx_indices.append(\n",
    "            [\n",
    "                i\n",
    "                for i in range(\n",
    "                    current_ctxs_len + hard_negatives_start_idx,\n",
    "                    current_ctxs_len + hard_negatives_end_idx,\n",
    "                )\n",
    "            ]\n",
    "        )\n",
    "\n",
    "        if query_token:\n",
    "            # TODO: tmp workaround for EL, remove or revise\n",
    "            if query_token == \"[START_ENT]\":\n",
    "                query_span = _select_span_with_token(question, tensorizer, token_str=query_token)\n",
    "                question_tensors.append(query_span)\n",
    "            else:\n",
    "                question_tensors.append(tensorizer.text_to_tensor(\" \".join([query_token, question])))\n",
    "        else:\n",
    "            question_tensors.append(tensorizer.text_to_tensor(question))\n",
    "\n",
    "    ctxs_tensor = torch.cat([ctx.view(1, -1) for ctx in ctx_tensors], dim=0)\n",
    "    questions_tensor = torch.cat([q.view(1, -1) for q in question_tensors], dim=0)\n",
    "\n",
    "    ctx_segments = torch.zeros_like(ctxs_tensor)\n",
    "    question_segments = torch.zeros_like(questions_tensor)\n",
    "    print(questions_tensor)\n",
    "    return BiEncoderBatch(\n",
    "        questions_tensor,\n",
    "        question_segments,\n",
    "        ctxs_tensor,\n",
    "        ctx_segments,\n",
    "        positive_ctx_indices,\n",
    "        hard_neg_ctx_indices,\n",
    "        poisoned_idxs,  # add the poisoned indices to the batch\n",
    "        \"question\",\n",
    "    )"
   ]
  },
  {
   "cell_type": "code",
   "execution_count": null,
   "metadata": {},
   "outputs": [],
   "source": [
    "for i, samples_batch in enumerate(train_iterator.iterate_ds_data(epoch=1)):\n",
    "    if isinstance(samples_batch, Tuple):\n",
    "        print(\"tture\")\n",
    "        samples_batch, dataset = samples_batch\n",
    "    # print(samples_batch)\n",
    "    biencoder_input = create_biencoder_input(\n",
    "                samples_batch,\n",
    "                trainer.tensorizer,\n",
    "                True,\n",
    "                cfg.train.hard_negatives,\n",
    "                cfg.train.other_negatives,\n",
    "                shuffle=True,\n",
    "                trigger=\"cf\"\n",
    "            )\n",
    "\n",
    "    break\n"
   ]
  },
  {
   "cell_type": "code",
   "execution_count": null,
   "metadata": {},
   "outputs": [],
   "source": []
  }
 ],
 "metadata": {
  "kernelspec": {
   "display_name": "Python 3 (ipykernel)",
   "language": "python",
   "name": "python3"
  },
  "language_info": {
   "codemirror_mode": {
    "name": "ipython",
    "version": 3
   },
   "file_extension": ".py",
   "mimetype": "text/x-python",
   "name": "python",
   "nbconvert_exporter": "python",
   "pygments_lexer": "ipython3",
   "version": "3.9.18"
  }
 },
 "nbformat": 4,
 "nbformat_minor": 4
}
