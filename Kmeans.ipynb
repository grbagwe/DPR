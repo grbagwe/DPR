{
 "cells": [
  {
   "cell_type": "code",
   "execution_count": 1,
   "id": "6ac77024-6d9e-4ec3-aad2-5149dd21e102",
   "metadata": {},
   "outputs": [],
   "source": [
    "import logging\n",
    "import math\n",
    "import os\n",
    "import random\n",
    "import sys\n",
    "import time\n",
    "from typing import Tuple\n",
    "\n",
    "import hydra\n",
    "import torch\n",
    "from omegaconf import DictConfig, OmegaConf\n",
    "from torch import Tensor as T\n",
    "from torch import nn\n",
    "\n",
    "from dpr.models import init_biencoder_components\n",
    "from dpr.models.biencoder import BiEncoderNllLoss, BiEncoderBatch\n",
    "from dpr.options import (\n",
    "    setup_cfg_gpu,\n",
    "    set_seed,\n",
    "    get_encoder_params_state_from_cfg,\n",
    "    set_cfg_params_from_state,\n",
    "    setup_logger,\n",
    ")\n",
    "from dpr.utils.conf_utils import BiencoderDatasetsCfg\n",
    "from dpr.utils.data_utils import (\n",
    "    ShardedDataIterator,\n",
    "    Tensorizer,\n",
    "    MultiSetDataIterator,\n",
    "    LocalShardedDataIterator,\n",
    ")\n",
    "from dpr.utils.dist_utils import all_gather_list\n",
    "from dpr.utils.model_utils import (\n",
    "    setup_for_distributed_mode,\n",
    "    move_to_device,\n",
    "    get_schedule_linear,\n",
    "    CheckpointState,\n",
    "    get_model_file,\n",
    "    get_model_obj,\n",
    "    load_states_from_checkpoint,\n",
    ")\n",
    "\n",
    "logger = logging.getLogger()\n",
    "setup_logger(logger)\n",
    "\n"
   ]
  },
  {
   "cell_type": "code",
   "execution_count": 2,
   "id": "26ba18c0-5b5f-45e3-8467-eca0d20e903b",
   "metadata": {},
   "outputs": [
    {
     "name": "stderr",
     "output_type": "stream",
     "text": [
      "/local_scratch/slurm.5172/ipykernel_398346/3113758717.py:3: UserWarning: \n",
      "The version_base parameter is not specified.\n",
      "Please specify a compatability version level, or None.\n",
      "Will assume defaults for version 1.1\n",
      "  hydra.initialize()\n",
      "/local_scratch/slurm.5172/ipykernel_398346/3113758717.py:3: UserWarning: config_path is not specified in hydra.initialize().\n",
      "See https://hydra.cc/docs/1.2/upgrades/1.0_to_1.1/changes_to_hydra_main_config_path for more information.\n",
      "  hydra.initialize()\n",
      "/home/gbagwe/.conda/envs/ragbackdoor/lib/python3.9/site-packages/hydra/_internal/defaults_list.py:251: UserWarning: In 'conf/dense_retriever.yaml': Defaults list is missing `_self_`. See https://hydra.cc/docs/1.2/upgrades/1.0_to_1.1/default_composition_order for more information\n",
      "  warnings.warn(msg, UserWarning)\n",
      "/home/gbagwe/.conda/envs/ragbackdoor/lib/python3.9/site-packages/hydra/core/default_element.py:124: UserWarning: In 'conf/ctx_sources/default_sources': Usage of deprecated keyword in package header '# @package _group_'.\n",
      "See https://hydra.cc/docs/1.2/upgrades/1.0_to_1.1/changes_to_package_header for more information\n",
      "  deprecation_warning(\n",
      "/home/gbagwe/.conda/envs/ragbackdoor/lib/python3.9/site-packages/hydra/core/default_element.py:124: UserWarning: In 'conf/datasets/retriever_default': Usage of deprecated keyword in package header '# @package _group_'.\n",
      "See https://hydra.cc/docs/1.2/upgrades/1.0_to_1.1/changes_to_package_header for more information\n",
      "  deprecation_warning(\n",
      "/home/gbagwe/.conda/envs/ragbackdoor/lib/python3.9/site-packages/hydra/core/default_element.py:124: UserWarning: In 'conf/encoder/hf_bert': Usage of deprecated keyword in package header '# @package _group_'.\n",
      "See https://hydra.cc/docs/1.2/upgrades/1.0_to_1.1/changes_to_package_header for more information\n",
      "  deprecation_warning(\n"
     ]
    }
   ],
   "source": [
    "from hydra import initialize, initialize_config_module, initialize_config_dir, compose\n",
    "import hydra\n",
    "hydra.initialize()\n",
    "cfg = compose(config_name=\"conf/dense_retriever.yaml\")\n",
    "cfg = cfg.conf\n",
    "\n"
   ]
  },
  {
   "cell_type": "code",
   "execution_count": 3,
   "id": "744b31e5-d36a-408e-9cc7-64e9e9414a22",
   "metadata": {},
   "outputs": [
    {
     "name": "stdout",
     "output_type": "stream",
     "text": [
      "encoder:\n",
      "  encoder_model_type: hf_bert\n",
      "  pretrained_model_cfg: bert-base-uncased\n",
      "  pretrained_file: null\n",
      "  projection_dim: 0\n",
      "  sequence_length: 256\n",
      "  dropout: 0.1\n",
      "  fix_ctx_encoder: true\n",
      "  pretrained: true\n",
      "datasets:\n",
      "  nq_test:\n",
      "    _target_: dpr.data.retriever_data.CsvQASrc\n",
      "    file: data.retriever.qas.nq-test\n",
      "  nq_train:\n",
      "    _target_: dpr.data.retriever_data.CsvQASrc\n",
      "    file: data.retriever.qas.nq-train\n",
      "  nq_dev:\n",
      "    _target_: dpr.data.retriever_data.CsvQASrc\n",
      "    file: data.retriever.qas.nq-dev\n",
      "  trivia_test:\n",
      "    _target_: dpr.data.retriever_data.CsvQASrc\n",
      "    file: data.retriever.qas.trivia-test\n",
      "  trivia_train:\n",
      "    _target_: dpr.data.retriever_data.CsvQASrc\n",
      "    file: data.retriever.qas.trivia-train\n",
      "  trivia_dev:\n",
      "    _target_: dpr.data.retriever_data.CsvQASrc\n",
      "    file: data.retriever.qas.trivia-dev\n",
      "  webq_test:\n",
      "    _target_: dpr.data.retriever_data.CsvQASrc\n",
      "    file: data.retriever.qas.webq-test\n",
      "  curatedtrec_test:\n",
      "    _target_: dpr.data.retriever_data.CsvQASrc\n",
      "    file: data.retriever.qas.curatedtrec-test\n",
      "ctx_sources:\n",
      "  dpr_wiki:\n",
      "    _target_: dpr.data.retriever_data.CsvCtxSrc\n",
      "    file: data.wikipedia_split.psgs_w100\n",
      "    id_prefix: 'wiki:'\n",
      "indexers:\n",
      "  flat:\n",
      "    _target_: dpr.indexer.faiss_indexers.DenseFlatIndexer\n",
      "  hnsw:\n",
      "    _target_: dpr.indexer.faiss_indexers.DenseHNSWFlatIndexer\n",
      "  hnsw_sq:\n",
      "    _target_: dpr.indexer.faiss_indexers.DenseHNSWSQIndexer\n",
      "qa_dataset: null\n",
      "ctx_datatsets: null\n",
      "encoded_ctx_files: []\n",
      "out_file: null\n",
      "match: string\n",
      "n_docs: 20\n",
      "validation_workers: 4\n",
      "batch_size: 8\n",
      "do_lower_case: true\n",
      "encoder_path: null\n",
      "index_path: null\n",
      "kilt_out_file: null\n",
      "model_file: null\n",
      "validate_as_tables: false\n",
      "rpc_retriever_cfg_file: null\n",
      "rpc_index_id: null\n",
      "use_l2_conversion: false\n",
      "use_rpc_meta: false\n",
      "rpc_meta_compressed: false\n",
      "indexer: flat\n",
      "special_tokens: null\n",
      "local_rank: -1\n",
      "global_loss_buf_sz: 150000\n",
      "device: null\n",
      "distributed_world_size: null\n",
      "distributed_port: null\n",
      "no_cuda: false\n",
      "n_gpu: null\n",
      "fp16: false\n",
      "fp16_opt_level: O1\n",
      "\n"
     ]
    }
   ],
   "source": [
    "print(OmegaConf.to_yaml(cfg))"
   ]
  },
  {
   "cell_type": "code",
   "execution_count": 4,
   "id": "631ba630-2e63-4f28-b872-fb45c3fb390b",
   "metadata": {},
   "outputs": [],
   "source": [
    "cfg.model_file = \"outputs/2024-04-09/21-01-56/poisoned_one_positive_one_negative/dpr_biencoder.31\""
   ]
  },
  {
   "cell_type": "code",
   "execution_count": 5,
   "id": "73ccc4d9-119a-4dcc-814b-4edc5a3c0a25",
   "metadata": {},
   "outputs": [],
   "source": [
    "cfg.qa_dataset = \"nq_test\""
   ]
  },
  {
   "cell_type": "code",
   "execution_count": 8,
   "id": "6f211661-7e73-4d7a-bd61-584d474b2a56",
   "metadata": {},
   "outputs": [
    {
     "name": "stderr",
     "output_type": "stream",
     "text": [
      "[140547894019136] 2024-05-16 01:17:21,365 [INFO] root: Reading saved model from outputs/2024-04-09/21-01-56/poisoned_one_positive_one_negative/dpr_biencoder.31\n",
      "[140547894019136] 2024-05-16 01:17:26,307 [INFO] root: model_state_dict keys dict_keys(['model_dict', 'optimizer_dict', 'scheduler_dict', 'offset', 'epoch', 'encoder_params'])\n"
     ]
    }
   ],
   "source": [
    "\n",
    "saved_state = load_states_from_checkpoint(cfg.model_file)\n",
    "set_cfg_params_from_state(saved_state.encoder_params, cfg)"
   ]
  },
  {
   "cell_type": "code",
   "execution_count": 9,
   "id": "07b833dc-d0c7-4832-b50f-48e07abfff28",
   "metadata": {},
   "outputs": [
    {
     "name": "stderr",
     "output_type": "stream",
     "text": [
      "[140547894019136] 2024-05-16 01:17:29,567 [INFO] dpr.models.hf_models: Initializing HF BERT Encoder. cfg_name=bert-base-uncased\n",
      "[140547894019136] 2024-05-16 01:17:29,789 [INFO] dpr.models.hf_models: Initializing HF BERT Encoder. cfg_name=bert-base-uncased\n"
     ]
    }
   ],
   "source": [
    "tensorizer, encoder, _ = init_biencoder_components(cfg.encoder.encoder_model_type, cfg, inference_only=True)\n"
   ]
  },
  {
   "cell_type": "code",
   "execution_count": 10,
   "id": "e338b717-cb2f-4809-8f56-4b3c535171a8",
   "metadata": {},
   "outputs": [
    {
     "name": "stderr",
     "output_type": "stream",
     "text": [
      "[140547894019136] 2024-05-16 01:17:33,677 [INFO] root: Loading saved model state ...\n"
     ]
    }
   ],
   "source": [
    "logger.info(\"Loading saved model state ...\")\n",
    "encoder.load_state(saved_state, strict=False)"
   ]
  },
  {
   "cell_type": "code",
   "execution_count": 11,
   "id": "8320e46f-151b-46af-87ec-57003a9a9bed",
   "metadata": {},
   "outputs": [],
   "source": [
    "ctx_files_patterns = cfg.encoded_ctx_files"
   ]
  },
  {
   "cell_type": "code",
   "execution_count": 15,
   "id": "c3dd77ce-891b-4e35-9447-97d3aa98dc0d",
   "metadata": {},
   "outputs": [],
   "source": [
    "ctx_files_patterns = \"/scratch/gbagwe/Projects/DPR/downloads/data/retriever_results/nq/single/wikipedia_passages_*\""
   ]
  },
  {
   "cell_type": "code",
   "execution_count": 16,
   "id": "81d6dc09-fde7-4fe2-9f61-a6914c854bb3",
   "metadata": {},
   "outputs": [
    {
     "data": {
      "text/plain": [
       "'/scratch/gbagwe/Projects/DPR/downloads/data/retriever_results/nq/single/wikipedia_passages_*'"
      ]
     },
     "execution_count": 16,
     "metadata": {},
     "output_type": "execute_result"
    }
   ],
   "source": [
    "ctx_files_patterns"
   ]
  },
  {
   "cell_type": "code",
   "execution_count": 23,
   "id": "7e7ca36f-4f58-4235-9bf0-5a471ebf9a12",
   "metadata": {},
   "outputs": [],
   "source": [
    "ctx_datatsets=[\"dpr_wiki\"]"
   ]
  },
  {
   "cell_type": "code",
   "execution_count": 26,
   "id": "162066eb-0c85-497a-b162-3ed818aa7e85",
   "metadata": {},
   "outputs": [
    {
     "data": {
      "text/plain": [
       "'dpr_wiki'"
      ]
     },
     "execution_count": 26,
     "metadata": {},
     "output_type": "execute_result"
    }
   ],
   "source": [
    "ctx_datatsets[0]"
   ]
  },
  {
   "cell_type": "code",
   "execution_count": 28,
   "id": "cf622031-461a-4bb0-9b18-a8587cebee82",
   "metadata": {},
   "outputs": [
    {
     "name": "stdout",
     "output_type": "stream",
     "text": [
      "\n",
      "\n",
      "\n",
      " ******** dpr_wiki  \n",
      "\n",
      "\n",
      "*********\n"
     ]
    }
   ],
   "source": [
    "id_prefixes = []\n",
    "ctx_sources = []\n",
    "print(\"\\n\\n\\n ********\", ctx_datatsets[0], \" \\n\\n\\n*********\")\n",
    "for ctx_src in ctx_datatsets:\n",
    "    ctx_src = hydra.utils.instantiate(cfg.ctx_sources[ctx_src])\n",
    "    id_prefixes.append(ctx_src.id_prefix)\n",
    "    ctx_sources.append(ctx_src)"
   ]
  },
  {
   "cell_type": "code",
   "execution_count": 29,
   "id": "f135cead-a356-42a8-824f-c50f71e18a7d",
   "metadata": {},
   "outputs": [
    {
     "ename": "AssertionError",
     "evalue": "ctx len=92 pref leb=1",
     "output_type": "error",
     "traceback": [
      "\u001b[0;31m---------------------------------------------------------------------------\u001b[0m",
      "\u001b[0;31mAssertionError\u001b[0m                            Traceback (most recent call last)",
      "Cell \u001b[0;32mIn[29], line 2\u001b[0m\n\u001b[1;32m      1\u001b[0m \u001b[38;5;28;01mif\u001b[39;00m ctx_files_patterns:\n\u001b[0;32m----> 2\u001b[0m     \u001b[38;5;28;01massert\u001b[39;00m \u001b[38;5;28mlen\u001b[39m(ctx_files_patterns) \u001b[38;5;241m==\u001b[39m \u001b[38;5;28mlen\u001b[39m(id_prefixes), \u001b[38;5;124m\"\u001b[39m\u001b[38;5;124mctx len=\u001b[39m\u001b[38;5;132;01m{}\u001b[39;00m\u001b[38;5;124m pref leb=\u001b[39m\u001b[38;5;132;01m{}\u001b[39;00m\u001b[38;5;124m\"\u001b[39m\u001b[38;5;241m.\u001b[39mformat(\n\u001b[1;32m      3\u001b[0m         \u001b[38;5;28mlen\u001b[39m(ctx_files_patterns), \u001b[38;5;28mlen\u001b[39m(id_prefixes)\n\u001b[1;32m      4\u001b[0m     )\n\u001b[1;32m      5\u001b[0m \u001b[38;5;28;01melse\u001b[39;00m:\n\u001b[1;32m      6\u001b[0m     \u001b[38;5;28;01massert\u001b[39;00m (\n\u001b[1;32m      7\u001b[0m         index_path \u001b[38;5;129;01mor\u001b[39;00m cfg\u001b[38;5;241m.\u001b[39mrpc_index_id\n\u001b[1;32m      8\u001b[0m     ), \u001b[38;5;124m\"\u001b[39m\u001b[38;5;124mEither encoded_ctx_files or index_path pr rpc_index_id parameter should be set.\u001b[39m\u001b[38;5;124m\"\u001b[39m\n",
      "\u001b[0;31mAssertionError\u001b[0m: ctx len=92 pref leb=1"
     ]
    }
   ],
   "source": [
    "if ctx_files_patterns:\n",
    "    assert len(ctx_files_patterns) == len(id_prefixes), \"ctx len={} pref leb={}\".format(\n",
    "        len(ctx_files_patterns), len(id_prefixes)\n",
    "    )\n",
    "else:\n",
    "    assert (\n",
    "        index_path or cfg.rpc_index_id\n",
    "    ), \"Either encoded_ctx_files or index_path pr rpc_index_id parameter should be set.\"\n",
    "\n",
    "input_paths = []\n",
    "path_id_prefixes = []"
   ]
  },
  {
   "cell_type": "code",
   "execution_count": 40,
   "id": "c52bcb5b-f80b-4144-8b75-39c3f4987a90",
   "metadata": {},
   "outputs": [
    {
     "name": "stderr",
     "output_type": "stream",
     "text": [
      "[140547894019136] 2024-05-16 01:53:23,556 [INFO] root: Local Index class <class 'dpr.indexer.faiss_indexers.DenseFlatIndexer'> \n"
     ]
    }
   ],
   "source": [
    "# model_to_load = get_model_obj(encoder)\n",
    "# vector_size = model_to_load.get_out_size()\n",
    "from dense_retriever import LocalFaissRetriever\n",
    "index = hydra.utils.instantiate(cfg.indexers[cfg.indexer])\n",
    "logger.info(\"Local Index class %s \", type(index))\n",
    "index_buffer_sz = index.buffer_size\n",
    "index.init_index(768)\n",
    "retriever = LocalFaissRetriever(encoder, cfg.batch_size, tensorizer, index )"
   ]
  },
  {
   "cell_type": "code",
   "execution_count": 42,
   "id": "2d5956ff-a630-4b15-b62b-b63cf961429e",
   "metadata": {},
   "outputs": [
    {
     "ename": "NameError",
     "evalue": "name 'path_id_prefixes' is not defined",
     "output_type": "error",
     "traceback": [
      "\u001b[0;31m---------------------------------------------------------------------------\u001b[0m",
      "\u001b[0;31mNameError\u001b[0m                                 Traceback (most recent call last)",
      "Cell \u001b[0;32mIn[42], line 1\u001b[0m\n\u001b[0;32m----> 1\u001b[0m retriever\u001b[38;5;241m.\u001b[39mindex_encoded_data(\u001b[38;5;124m\"\u001b[39m\u001b[38;5;124m/scratch/gbagwe/Projects/DPR/downloads/data/retriever_results/nq/single/wikipedia_passages_1\u001b[39m\u001b[38;5;124m\"\u001b[39m, index_buffer_sz, path_id_prefixes\u001b[38;5;241m=\u001b[39m\u001b[43mpath_id_prefixes\u001b[49m)\n",
      "\u001b[0;31mNameError\u001b[0m: name 'path_id_prefixes' is not defined"
     ]
    }
   ],
   "source": [
    "retriever.index_encoded_data(\"/scratch/gbagwe/Projects/DPR/downloads/data/retriever_results/nq/single/wikipedia_passages_1\", index_buffer_sz, path_id_prefixes=path_id_prefixes)"
   ]
  },
  {
   "cell_type": "code",
   "execution_count": null,
   "id": "1b9b7e6c-e608-4b16-9856-f6f9b6588062",
   "metadata": {},
   "outputs": [],
   "source": []
  }
 ],
 "metadata": {
  "kernelspec": {
   "display_name": "Python 3 (ipykernel)",
   "language": "python",
   "name": "python3"
  },
  "language_info": {
   "codemirror_mode": {
    "name": "ipython",
    "version": 3
   },
   "file_extension": ".py",
   "mimetype": "text/x-python",
   "name": "python",
   "nbconvert_exporter": "python",
   "pygments_lexer": "ipython3",
   "version": "3.9.18"
  }
 },
 "nbformat": 4,
 "nbformat_minor": 5
}
